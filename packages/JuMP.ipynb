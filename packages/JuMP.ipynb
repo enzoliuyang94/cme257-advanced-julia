{
 "cells": [
  {
   "cell_type": "code",
   "execution_count": 1,
   "metadata": {},
   "outputs": [],
   "source": [
    "## my Julia is ver 1.2.0\n",
    "## Package used in the notebook is JuMP\n",
    "## I am using JuMP to solve a simple Knapsack problem - fit iterms ofv various weights and values into a knapsack to maximize value\n",
    "## The example is adapted from a Pyomo example found at https://github.com/Pyomo/pyomo/tree/master/examples/pyomo/concrete"
   ]
  },
  {
   "cell_type": "code",
   "execution_count": 2,
   "metadata": {},
   "outputs": [],
   "source": [
    "using JuMP\n",
    "using Cbc"
   ]
  },
  {
   "cell_type": "code",
   "execution_count": 3,
   "metadata": {},
   "outputs": [
    {
     "data": {
      "text/latex": [
       "$$ \\begin{alignat*}{1}\\text{feasibility}\\\\\n",
       "\\text{Subject to} \\quad\\end{alignat*}\n",
       " $$"
      ],
      "text/plain": [
       "A JuMP Model\n",
       "Feasibility problem with:\n",
       "Variables: 0\n",
       "Model mode: AUTOMATIC\n",
       "CachingOptimizer state: EMPTY_OPTIMIZER\n",
       "Solver name: COIN Branch-and-Cut (Cbc)"
      ]
     },
     "execution_count": 3,
     "metadata": {},
     "output_type": "execute_result"
    }
   ],
   "source": [
    "# Initialize the model\n",
    "model1 = Model(with_optimizer(Cbc.Optimizer))"
   ]
  },
  {
   "cell_type": "code",
   "execution_count": 4,
   "metadata": {},
   "outputs": [
    {
     "data": {
      "text/plain": [
       "14"
      ]
     },
     "execution_count": 4,
     "metadata": {},
     "output_type": "execute_result"
    }
   ],
   "source": [
    "# initialize parameters\n",
    "items = [\"hammer\",\"wrench\",\"screwdriver\",\"towel\"]\n",
    "weight = Dict([(\"hammer\",8),(\"wrench\",3),(\"screwdriver\",6),(\"towel\",11)])\n",
    "value = Dict([(\"hammer\",5),(\"wrench\",7),(\"screwdriver\",4),(\"towel\",3)])\n",
    "limit = 14"
   ]
  },
  {
   "cell_type": "code",
   "execution_count": 5,
   "metadata": {},
   "outputs": [
    {
     "data": {
      "text/plain": [
       "1-dimensional DenseAxisArray{VariableRef,1,...} with index sets:\n",
       "    Dimension 1, [\"hammer\", \"wrench\", \"screwdriver\", \"towel\"]\n",
       "And data, a 4-element Array{VariableRef,1}:\n",
       " x[hammer]     \n",
       " x[wrench]     \n",
       " x[screwdriver]\n",
       " x[towel]      "
      ]
     },
     "execution_count": 5,
     "metadata": {},
     "output_type": "execute_result"
    }
   ],
   "source": [
    "# initialize variables\n",
    "@variable(model1, x[items], Bin)"
   ]
  },
  {
   "cell_type": "code",
   "execution_count": 6,
   "metadata": {},
   "outputs": [
    {
     "data": {
      "text/latex": [
       "con : $ 8 x_{hammer} + 3 x_{wrench} + 6 x_{screwdriver} + 11 x_{towel} \\leq 14.0 $"
      ],
      "text/plain": [
       "con : 8 x[hammer] + 3 x[wrench] + 6 x[screwdriver] + 11 x[towel] <= 14.0"
      ]
     },
     "execution_count": 6,
     "metadata": {},
     "output_type": "execute_result"
    }
   ],
   "source": [
    "# constraints\n",
    "@constraint(model1, con, sum(x[i]*weight[i] for i in items) <= limit)"
   ]
  },
  {
   "cell_type": "code",
   "execution_count": 7,
   "metadata": {},
   "outputs": [
    {
     "name": "stdout",
     "output_type": "stream",
     "text": [
      "Feasibility\n",
      "Subject to\n",
      " 8 x[hammer] + 3 x[wrench] + 6 x[screwdriver] + 11 x[towel] <= 14.0\n",
      " x[hammer] binary\n",
      " x[wrench] binary\n",
      " x[screwdriver] binary\n",
      " x[towel] binary\n",
      "\n"
     ]
    }
   ],
   "source": [
    "# print the model\n",
    "println(model1)"
   ]
  },
  {
   "cell_type": "code",
   "execution_count": 8,
   "metadata": {},
   "outputs": [
    {
     "name": "stdout",
     "output_type": "stream",
     "text": [
      "Welcome to the CBC MILP Solver \n",
      "Version: 2.10.3 \n",
      "Build Date: Oct  7 2019 \n",
      "\n",
      "command line - Cbc_C_Interface -solve -quit (default strategy 1)\n",
      "Continuous objective value is 0 - 0.00 seconds\n",
      "Cgl0004I processed model has 0 rows, 0 columns (0 integer (0 of which binary)) and 0 elements\n",
      "Cbc3007W No integer variables - nothing to do\n",
      "Cuts at root node changed objective from 0 to -1.79769e+308\n",
      "Probing was tried 0 times and created 0 cuts of which 0 were active after adding rounds of cuts (0.000 seconds)\n",
      "Gomory was tried 0 times and created 0 cuts of which 0 were active after adding rounds of cuts (0.000 seconds)\n",
      "Knapsack was tried 0 times and created 0 cuts of which 0 were active after adding rounds of cuts (0.000 seconds)\n",
      "Clique was tried 0 times and created 0 cuts of which 0 were active after adding rounds of cuts (0.000 seconds)\n",
      "MixedIntegerRounding2 was tried 0 times and created 0 cuts of which 0 were active after adding rounds of cuts (0.000 seconds)\n",
      "FlowCover was tried 0 times and created 0 cuts of which 0 were active after adding rounds of cuts (0.000 seconds)\n",
      "TwoMirCuts was tried 0 times and created 0 cuts of which 0 were active after adding rounds of cuts (0.000 seconds)\n",
      "ZeroHalf was tried 0 times and created 0 cuts of which 0 were active after adding rounds of cuts (0.000 seconds)\n",
      "\n",
      "Result - Optimal solution found\n",
      "\n",
      "Objective value:                0.00000000\n",
      "Enumerated nodes:               0\n",
      "Total iterations:               0\n",
      "Time (CPU seconds):             0.00\n",
      "Time (Wallclock seconds):       0.00\n",
      "\n",
      "Total time (CPU seconds):       0.00   (Wallclock seconds):       0.00\n",
      "\n"
     ]
    }
   ],
   "source": [
    "# solve the model and print results\n",
    "status = optimize!(model1)"
   ]
  },
  {
   "cell_type": "code",
   "execution_count": null,
   "metadata": {},
   "outputs": [],
   "source": []
  }
 ],
 "metadata": {
  "kernelspec": {
   "display_name": "Julia 1.2.0",
   "language": "julia",
   "name": "julia-1.2"
  },
  "language_info": {
   "file_extension": ".jl",
   "mimetype": "application/julia",
   "name": "julia",
   "version": "1.2.0"
  }
 },
 "nbformat": 4,
 "nbformat_minor": 2
}
